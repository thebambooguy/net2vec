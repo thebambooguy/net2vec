{
 "cells": [
  {
   "cell_type": "code",
   "execution_count": null,
   "metadata": {},
   "outputs": [],
   "source": [
    "import os\n",
    "import pandas as pd"
   ]
  },
  {
   "cell_type": "code",
   "execution_count": null,
   "metadata": {},
   "outputs": [],
   "source": [
    "for root, dirs, files in os.walk('.'):\n",
    "    for name in files:\n",
    "        if name == 'scripts_statistics.csv':\n",
    "            path_to_file = os.path.join(root,name)\n",
    "            df = pd.read_csv(path_to_file, sep=',', names=['step','train_mse', 'test_mse', 'R**2'])\n",
    "            print('\\n',root)\n",
    "            print('Row with maximum R**2 value: \\n {} \\n'.format(df[ df['R**2'] == df['R**2'].max()]))\n",
    "            print('Difference between max value and max value from last 5 rows: {}'.format(df['R**2'].max() - df['R**2'].tail().max()))\n",
    "            print(df.tail())"
   ]
  }
 ],
 "metadata": {
  "kernelspec": {
   "display_name": "Python 3",
   "language": "python",
   "name": "python3"
  },
  "language_info": {
   "codemirror_mode": {
    "name": "ipython",
    "version": 3
   },
   "file_extension": ".py",
   "mimetype": "text/x-python",
   "name": "python",
   "nbconvert_exporter": "python",
   "pygments_lexer": "ipython3",
   "version": "3.7.6"
  }
 },
 "nbformat": 4,
 "nbformat_minor": 4
}
